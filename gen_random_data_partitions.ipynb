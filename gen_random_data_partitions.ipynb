{
 "cells": [
  {
   "cell_type": "code",
   "execution_count": 8,
   "metadata": {},
   "outputs": [],
   "source": [
    "from random import randrange\n",
    "from datetime import timedelta, datetime\n",
    "import csv"
   ]
  },
  {
   "cell_type": "code",
   "execution_count": 24,
   "metadata": {},
   "outputs": [],
   "source": [
    "\n",
    "def random_date(start, end):\n",
    "    \"\"\"\n",
    "    This function will return a random datetime between two datetime \n",
    "    objects.\n",
    "    \"\"\"\n",
    "    delta = end - start\n",
    "    int_delta = (delta.days * 24 * 60 * 60) + delta.seconds\n",
    "    random_second = randrange(int_delta)\n",
    "    return start + timedelta(seconds=random_second)\n",
    "\n",
    "def random_range(start, end):\n",
    "    irand = randrange(start, end)\n",
    "    return irand\n",
    "\n",
    "region = ['North East', 'South East', 'Midwest', 'North West', 'South West']\n",
    "dstart = datetime.strptime('1/1/2019 0:00:00', '%m/%d/%Y %H:%M:%S')\n",
    "dend = datetime.strptime('01/31/2020 23:59:59', '%m/%d/%Y %H:%M:%S')\n",
    "\n",
    "with open('partition_test_data.csv', 'wb') as csvfile:\n",
    "    spamwriter = csv.writer(csvfile, delimiter=',', \n",
    "                            quotechar='\"', quoting=csv.QUOTE_MINIMAL)\n",
    "    for i in range(0,1000000):\n",
    "        spamwriter.writerow([region[random_range(0,4)], random_date(dstart, dend)])\n",
    "        \n",
    "    dstart = datetime.strptime('1/1/2020 0:00:00', '%m/%d/%Y %H:%M:%S')\n",
    "    dend = datetime.strptime('03/31/2020 23:59:59', '%m/%d/%Y %H:%M:%S')\n",
    "\n",
    "    for i in range(0,9000000):\n",
    "        spamwriter.writerow([region[random_range(0,4)], random_date(dstart, dend)])\n",
    "    \n",
    "    \n"
   ]
  },
  {
   "cell_type": "code",
   "execution_count": 25,
   "metadata": {},
   "outputs": [
    {
     "name": "stdout",
     "output_type": "stream",
     "text": [
      " 10000000 partition_test_data.csv\n"
     ]
    }
   ],
   "source": [
    "%%bash\n",
    "\n",
    "#head -40 partition_test_data.csv\n",
    "wc -l partition_test_data.csv"
   ]
  },
  {
   "cell_type": "code",
   "execution_count": 26,
   "metadata": {},
   "outputs": [],
   "source": [
    "%%bash\n",
    "scp partition_test_data.csv mgruen@sandbox:."
   ]
  },
  {
   "cell_type": "code",
   "execution_count": null,
   "metadata": {},
   "outputs": [],
   "source": []
  }
 ],
 "metadata": {
  "kernelspec": {
   "display_name": "Python 2",
   "language": "python",
   "name": "python2"
  },
  "language_info": {
   "codemirror_mode": {
    "name": "ipython",
    "version": 2
   },
   "file_extension": ".py",
   "mimetype": "text/x-python",
   "name": "python",
   "nbconvert_exporter": "python",
   "pygments_lexer": "ipython2",
   "version": "2.7.17"
  }
 },
 "nbformat": 4,
 "nbformat_minor": 2
}
